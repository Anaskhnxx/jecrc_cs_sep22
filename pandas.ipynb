{
 "cells": [
  {
   "cell_type": "markdown",
   "id": "2a2789df-c118-4d8d-b204-7aefbc9d0273",
   "metadata": {},
   "source": [
    "# pandas"
   ]
  },
  {
   "cell_type": "code",
   "execution_count": 1,
   "id": "4da63b12-d073-48c4-9334-a4d83d81e1ca",
   "metadata": {},
   "outputs": [],
   "source": [
    "import pandas as pd"
   ]
  },
  {
   "cell_type": "markdown",
   "id": "59a7388b-2210-454e-b322-2445641df60f",
   "metadata": {},
   "source": [
    "* series ------ 1d array\n",
    "* data frame  ------ 2d array (table format, row & column)"
   ]
  },
  {
   "cell_type": "markdown",
   "id": "305f21f4-8024-475b-9dae-d330afef1c57",
   "metadata": {},
   "source": [
    "anas khan\n"
   ]
  },
  {
   "cell_type": "code",
   "execution_count": 2,
   "id": "b953e952-47b6-44dc-9204-11e30eb9bbaf",
   "metadata": {},
   "outputs": [
    {
     "name": "stderr",
     "output_type": "stream",
     "text": [
      "C:\\Users\\user\\AppData\\Local\\Temp\\ipykernel_1544\\2002766541.py:1: FutureWarning: The default dtype for empty Series will be 'object' instead of 'float64' in a future version. Specify a dtype explicitly to silence this warning.\n",
      "  a=pd.Series([])\n"
     ]
    }
   ],
   "source": [
    "a=pd.Series([])\n",
    "b=pd.Series([1,2,3,44,56,100])\n",
    "c=pd.Series((45,56,67,35,34))\n",
    "d=pd.Series({'a':10 , 'b':15 , 'c':56, 'd':99})"
   ]
  },
  {
   "cell_type": "code",
   "execution_count": 3,
   "id": "6e5f2e06-8363-4c30-a6af-f13f14295115",
   "metadata": {},
   "outputs": [
    {
     "name": "stdout",
     "output_type": "stream",
     "text": [
      "<class 'pandas.core.series.Series'>\n",
      "<class 'pandas.core.series.Series'>\n"
     ]
    }
   ],
   "source": [
    "print(type(a))\n",
    "print(type(b))"
   ]
  },
  {
   "cell_type": "code",
   "execution_count": 4,
   "id": "c4adae18-0a1a-462d-8183-09358d7ecb58",
   "metadata": {},
   "outputs": [
    {
     "data": {
      "text/plain": [
       "Series([], dtype: float64)"
      ]
     },
     "execution_count": 4,
     "metadata": {},
     "output_type": "execute_result"
    }
   ],
   "source": [
    "a"
   ]
  },
  {
   "cell_type": "code",
   "execution_count": 5,
   "id": "130b5883-c9f9-4e44-864e-bd01f4e0fa3c",
   "metadata": {},
   "outputs": [
    {
     "data": {
      "text/plain": [
       "0      1\n",
       "1      2\n",
       "2      3\n",
       "3     44\n",
       "4     56\n",
       "5    100\n",
       "dtype: int64"
      ]
     },
     "execution_count": 5,
     "metadata": {},
     "output_type": "execute_result"
    }
   ],
   "source": [
    "b"
   ]
  },
  {
   "cell_type": "code",
   "execution_count": 6,
   "id": "380bee7f-8b98-44c3-a389-0fb6d7de390f",
   "metadata": {},
   "outputs": [
    {
     "name": "stdout",
     "output_type": "stream",
     "text": [
      "<class 'pandas.core.series.Series'>\n"
     ]
    }
   ],
   "source": [
    "print(type(c))"
   ]
  },
  {
   "cell_type": "code",
   "execution_count": 7,
   "id": "a646c14c-2095-4aa0-9f71-ce133604bc9e",
   "metadata": {},
   "outputs": [
    {
     "data": {
      "text/plain": [
       "0    45\n",
       "1    56\n",
       "2    67\n",
       "3    35\n",
       "4    34\n",
       "dtype: int64"
      ]
     },
     "execution_count": 7,
     "metadata": {},
     "output_type": "execute_result"
    }
   ],
   "source": [
    "c"
   ]
  },
  {
   "cell_type": "code",
   "execution_count": 8,
   "id": "524056b9-8e19-4888-b04b-e4f0513c8639",
   "metadata": {},
   "outputs": [
    {
     "name": "stdout",
     "output_type": "stream",
     "text": [
      "<class 'pandas.core.series.Series'>\n"
     ]
    }
   ],
   "source": [
    "print(type(d))"
   ]
  },
  {
   "cell_type": "code",
   "execution_count": 9,
   "id": "3ac440b4-d43e-4ee8-8181-09476cb51e19",
   "metadata": {},
   "outputs": [
    {
     "data": {
      "text/plain": [
       "a    10\n",
       "b    15\n",
       "c    56\n",
       "d    99\n",
       "dtype: int64"
      ]
     },
     "execution_count": 9,
     "metadata": {},
     "output_type": "execute_result"
    }
   ],
   "source": [
    "d"
   ]
  },
  {
   "cell_type": "code",
   "execution_count": 10,
   "id": "d40f5716-ca1f-452e-8058-92dbec602c09",
   "metadata": {},
   "outputs": [],
   "source": [
    "import pandas as pd"
   ]
  },
  {
   "cell_type": "code",
   "execution_count": 11,
   "id": "c62b245f-5644-4092-90f1-8c1842f3b0ad",
   "metadata": {},
   "outputs": [],
   "source": [
    "import numpy as np"
   ]
  },
  {
   "cell_type": "code",
   "execution_count": 12,
   "id": "ab29e21b-31a2-44eb-8223-fca37b994c4e",
   "metadata": {},
   "outputs": [],
   "source": [
    "n=([1,3,3,4,4,55])"
   ]
  },
  {
   "cell_type": "code",
   "execution_count": 13,
   "id": "65a0d3c4-1470-4eb0-bf39-237580f93faa",
   "metadata": {},
   "outputs": [
    {
     "data": {
      "text/plain": [
       "[1, 3, 3, 4, 4, 55]"
      ]
     },
     "execution_count": 13,
     "metadata": {},
     "output_type": "execute_result"
    }
   ],
   "source": [
    "n"
   ]
  },
  {
   "cell_type": "code",
   "execution_count": 14,
   "id": "34a33b93-f35c-47d0-822c-9b2925825bdb",
   "metadata": {},
   "outputs": [],
   "source": [
    "x=pd.Series(n)"
   ]
  },
  {
   "cell_type": "code",
   "execution_count": 15,
   "id": "0f0db886-0e04-4c6d-bec6-6ed0dcb9c912",
   "metadata": {},
   "outputs": [
    {
     "data": {
      "text/plain": [
       "0     1\n",
       "1     3\n",
       "2     3\n",
       "3     4\n",
       "4     4\n",
       "5    55\n",
       "dtype: int64"
      ]
     },
     "execution_count": 15,
     "metadata": {},
     "output_type": "execute_result"
    }
   ],
   "source": [
    "x"
   ]
  },
  {
   "cell_type": "code",
   "execution_count": 16,
   "id": "33048023-0000-4d3d-b3a5-2333517b9f47",
   "metadata": {},
   "outputs": [
    {
     "data": {
      "text/plain": [
       "pandas.core.series.Series"
      ]
     },
     "execution_count": 16,
     "metadata": {},
     "output_type": "execute_result"
    }
   ],
   "source": [
    "type(x)"
   ]
  },
  {
   "cell_type": "code",
   "execution_count": 17,
   "id": "055b74fd-7a1c-4a8f-bb0b-7c36d28b20b7",
   "metadata": {},
   "outputs": [],
   "source": [
    "b=pd.Series([1,2,[11,234,45],[32,12,12],3,45,6,])"
   ]
  },
  {
   "cell_type": "code",
   "execution_count": 18,
   "id": "929f8bf9-e114-44c6-81bf-7d3232be034b",
   "metadata": {},
   "outputs": [
    {
     "data": {
      "text/plain": [
       "0                1\n",
       "1                2\n",
       "2    [11, 234, 45]\n",
       "3     [32, 12, 12]\n",
       "4                3\n",
       "5               45\n",
       "6                6\n",
       "dtype: object"
      ]
     },
     "execution_count": 18,
     "metadata": {},
     "output_type": "execute_result"
    }
   ],
   "source": [
    "b"
   ]
  },
  {
   "cell_type": "code",
   "execution_count": 19,
   "id": "7e5592d2-7562-44ad-b3a0-bc0d34592a4e",
   "metadata": {},
   "outputs": [
    {
     "data": {
      "text/plain": [
       "1"
      ]
     },
     "execution_count": 19,
     "metadata": {},
     "output_type": "execute_result"
    }
   ],
   "source": [
    "b[0]"
   ]
  },
  {
   "cell_type": "code",
   "execution_count": 24,
   "id": "b6a4491b-4b4a-4613-96fa-e5037851d61e",
   "metadata": {},
   "outputs": [
    {
     "data": {
      "text/plain": [
       "[11, 234, 45]"
      ]
     },
     "execution_count": 24,
     "metadata": {},
     "output_type": "execute_result"
    }
   ],
   "source": [
    "b[2]"
   ]
  },
  {
   "cell_type": "code",
   "execution_count": 25,
   "id": "8e8aa25f-2d04-4bd1-a1c7-04a208b061f2",
   "metadata": {},
   "outputs": [
    {
     "data": {
      "text/plain": [
       "a    10\n",
       "b    15\n",
       "c    56\n",
       "d    99\n",
       "dtype: int64"
      ]
     },
     "execution_count": 25,
     "metadata": {},
     "output_type": "execute_result"
    }
   ],
   "source": [
    "d"
   ]
  },
  {
   "cell_type": "code",
   "execution_count": 26,
   "id": "f93efb14-7340-438b-b6fe-1810f874ccfd",
   "metadata": {},
   "outputs": [
    {
     "data": {
      "text/plain": [
       "b    15\n",
       "c    56\n",
       "d    99\n",
       "dtype: int64"
      ]
     },
     "execution_count": 26,
     "metadata": {},
     "output_type": "execute_result"
    }
   ],
   "source": [
    "d['b':]"
   ]
  },
  {
   "cell_type": "code",
   "execution_count": 37,
   "id": "07ec8a9c-2ced-4007-ba47-a93674581160",
   "metadata": {},
   "outputs": [],
   "source": [
    "s = pd.Series([12,323,44,5,56,43], index=list('abcdef'))"
   ]
  },
  {
   "cell_type": "code",
   "execution_count": 38,
   "id": "02ca747a-fe77-4b60-825f-2c9143bd61eb",
   "metadata": {},
   "outputs": [
    {
     "data": {
      "text/plain": [
       "a     12\n",
       "b    323\n",
       "c     44\n",
       "d      5\n",
       "e     56\n",
       "f     43\n",
       "dtype: int64"
      ]
     },
     "execution_count": 38,
     "metadata": {},
     "output_type": "execute_result"
    }
   ],
   "source": [
    "s"
   ]
  },
  {
   "cell_type": "code",
   "execution_count": 39,
   "id": "29b8f185-06f5-4b35-bf6d-7149c27a3803",
   "metadata": {},
   "outputs": [
    {
     "data": {
      "text/plain": [
       "a     12\n",
       "b    323\n",
       "c     44\n",
       "d      5\n",
       "e     56\n",
       "f     43\n",
       "dtype: int64"
      ]
     },
     "execution_count": 39,
     "metadata": {},
     "output_type": "execute_result"
    }
   ],
   "source": [
    "s"
   ]
  },
  {
   "cell_type": "code",
   "execution_count": null,
   "id": "07947e5b-daa9-4007-929b-c13fb4490a93",
   "metadata": {},
   "outputs": [],
   "source": []
  },
  {
   "cell_type": "code",
   "execution_count": 40,
   "id": "56aaa419-940e-4f55-ab0e-137583868d50",
   "metadata": {},
   "outputs": [
    {
     "data": {
      "text/plain": [
       "a     12\n",
       "b    323\n",
       "c     44\n",
       "d      5\n",
       "e     56\n",
       "f     43\n",
       "dtype: int64"
      ]
     },
     "execution_count": 40,
     "metadata": {},
     "output_type": "execute_result"
    }
   ],
   "source": [
    "s"
   ]
  },
  {
   "cell_type": "code",
   "execution_count": 41,
   "id": "3581ba0e-5423-4f98-b36c-a27001bc6130",
   "metadata": {},
   "outputs": [
    {
     "data": {
      "text/plain": [
       "a     12\n",
       "b    323\n",
       "c     44\n",
       "d      5\n",
       "e     56\n",
       "f     43\n",
       "dtype: int64"
      ]
     },
     "execution_count": 41,
     "metadata": {},
     "output_type": "execute_result"
    }
   ],
   "source": [
    "s"
   ]
  },
  {
   "cell_type": "code",
   "execution_count": 42,
   "id": "ddf91132-47f2-4529-aefa-466e6e459da5",
   "metadata": {},
   "outputs": [],
   "source": [
    "s = pd.Series([12,323,44,5,56,43], index=['a','a','b','c','d' ,'e'])"
   ]
  },
  {
   "cell_type": "code",
   "execution_count": 43,
   "id": "e54718f9-3a90-496a-a8ac-c1d60d826807",
   "metadata": {},
   "outputs": [
    {
     "data": {
      "text/plain": [
       "a     12\n",
       "a    323\n",
       "b     44\n",
       "c      5\n",
       "d     56\n",
       "e     43\n",
       "dtype: int64"
      ]
     },
     "execution_count": 43,
     "metadata": {},
     "output_type": "execute_result"
    }
   ],
   "source": [
    "s"
   ]
  },
  {
   "cell_type": "code",
   "execution_count": 45,
   "id": "078e6edd-00d7-4e6c-a32b-c67ace1a422c",
   "metadata": {},
   "outputs": [],
   "source": [
    "s= pd.Series([1,2,2,3,4,4,45,4,1,2,3])"
   ]
  },
  {
   "cell_type": "code",
   "execution_count": 46,
   "id": "c46469f5-ad58-4e45-9690-a7e72a1f5f79",
   "metadata": {},
   "outputs": [
    {
     "data": {
      "text/plain": [
       "0      1\n",
       "1      2\n",
       "2      2\n",
       "3      3\n",
       "4      4\n",
       "5      4\n",
       "6     45\n",
       "7      4\n",
       "8      1\n",
       "9      2\n",
       "10     3\n",
       "dtype: int64"
      ]
     },
     "execution_count": 46,
     "metadata": {},
     "output_type": "execute_result"
    }
   ],
   "source": [
    "s"
   ]
  },
  {
   "cell_type": "code",
   "execution_count": 48,
   "id": "dc818045-abbf-4dd7-9848-0a8e41131c6c",
   "metadata": {},
   "outputs": [
    {
     "data": {
      "text/plain": [
       "2     3\n",
       "4     3\n",
       "1     2\n",
       "3     2\n",
       "45    1\n",
       "dtype: int64"
      ]
     },
     "execution_count": 48,
     "metadata": {},
     "output_type": "execute_result"
    }
   ],
   "source": [
    "s.value_counts()"
   ]
  },
  {
   "cell_type": "code",
   "execution_count": null,
   "id": "028a4ef5-8033-4880-892d-18ec0d610973",
   "metadata": {},
   "outputs": [],
   "source": [
    "s"
   ]
  },
  {
   "cell_type": "code",
   "execution_count": 49,
   "id": "c8350195-93af-453a-96aa-95b702de3e30",
   "metadata": {},
   "outputs": [
    {
     "data": {
      "text/plain": [
       "6"
      ]
     },
     "execution_count": 49,
     "metadata": {},
     "output_type": "execute_result"
    }
   ],
   "source": [
    "s.argmax()"
   ]
  },
  {
   "cell_type": "code",
   "execution_count": 50,
   "id": "a3d8fb73-ddbb-4bfb-90bb-a787c018bf91",
   "metadata": {},
   "outputs": [
    {
     "data": {
      "text/plain": [
       "0"
      ]
     },
     "execution_count": 50,
     "metadata": {},
     "output_type": "execute_result"
    }
   ],
   "source": [
    "s.argmin()"
   ]
  },
  {
   "cell_type": "code",
   "execution_count": 51,
   "id": "39c2c636-8f32-48fe-82d8-13e8d5813b98",
   "metadata": {},
   "outputs": [
    {
     "data": {
      "text/plain": [
       "0      1\n",
       "1      2\n",
       "2      2\n",
       "3      3\n",
       "4      4\n",
       "5      4\n",
       "6     45\n",
       "7      4\n",
       "8      1\n",
       "9      2\n",
       "10     3\n",
       "dtype: int64"
      ]
     },
     "execution_count": 51,
     "metadata": {},
     "output_type": "execute_result"
    }
   ],
   "source": [
    "s"
   ]
  },
  {
   "cell_type": "code",
   "execution_count": 52,
   "id": "26666991-cb04-4de9-908b-bec8807017e9",
   "metadata": {},
   "outputs": [],
   "source": [
    "s = pd.Series([12,323,44,5,56,43], index=['a','a','b','c','d' ,'e'])"
   ]
  },
  {
   "cell_type": "code",
   "execution_count": 53,
   "id": "5732716c-59a2-47aa-aef2-2a21c8786a10",
   "metadata": {},
   "outputs": [
    {
     "data": {
      "text/plain": [
       "a     12\n",
       "a    323\n",
       "b     44\n",
       "c      5\n",
       "d     56\n",
       "e     43\n",
       "dtype: int64"
      ]
     },
     "execution_count": 53,
     "metadata": {},
     "output_type": "execute_result"
    }
   ],
   "source": [
    "s"
   ]
  },
  {
   "cell_type": "code",
   "execution_count": 54,
   "id": "4b5256b7-8191-4241-a41b-156f9629ba4c",
   "metadata": {},
   "outputs": [
    {
     "data": {
      "text/plain": [
       "a     12\n",
       "a    323\n",
       "dtype: int64"
      ]
     },
     "execution_count": 54,
     "metadata": {},
     "output_type": "execute_result"
    }
   ],
   "source": [
    "s['a']"
   ]
  },
  {
   "cell_type": "code",
   "execution_count": 56,
   "id": "a8cc1876-dccd-45bc-95ef-7e3b323cea8a",
   "metadata": {},
   "outputs": [
    {
     "data": {
      "text/plain": [
       "'a'"
      ]
     },
     "execution_count": 56,
     "metadata": {},
     "output_type": "execute_result"
    }
   ],
   "source": [
    "s.idxmax()"
   ]
  },
  {
   "cell_type": "code",
   "execution_count": 57,
   "id": "9d91e4f6-4ac9-4259-b3df-efe9be4162c9",
   "metadata": {},
   "outputs": [
    {
     "data": {
      "text/plain": [
       "'c'"
      ]
     },
     "execution_count": 57,
     "metadata": {},
     "output_type": "execute_result"
    }
   ],
   "source": [
    "s.idxmin()"
   ]
  },
  {
   "cell_type": "code",
   "execution_count": null,
   "id": "c4df7053-8fb3-4b9a-83d4-f603dab07158",
   "metadata": {},
   "outputs": [],
   "source": []
  }
 ],
 "metadata": {
  "kernelspec": {
   "display_name": "Python 3 (ipykernel)",
   "language": "python",
   "name": "python3"
  },
  "language_info": {
   "codemirror_mode": {
    "name": "ipython",
    "version": 3
   },
   "file_extension": ".py",
   "mimetype": "text/x-python",
   "name": "python",
   "nbconvert_exporter": "python",
   "pygments_lexer": "ipython3",
   "version": "3.9.12"
  }
 },
 "nbformat": 4,
 "nbformat_minor": 5
}
