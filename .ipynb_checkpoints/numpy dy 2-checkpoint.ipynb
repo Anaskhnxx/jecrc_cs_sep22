{
 "cells": [
  {
   "cell_type": "code",
   "execution_count": 4,
   "id": "a6ed97d5-b535-45cc-a7fd-25b443463bec",
   "metadata": {},
   "outputs": [],
   "source": [
    "import numpy as np"
   ]
  },
  {
   "cell_type": "code",
   "execution_count": 5,
   "id": "c31c976d-8dfe-4f77-b390-badad3bae9b6",
   "metadata": {},
   "outputs": [],
   "source": [
    "m= np.array([[1,2,3,4], [34,45,67,67] , [345,658,453,536]])"
   ]
  },
  {
   "cell_type": "code",
   "execution_count": 6,
   "id": "3ee5412b-69a7-4df0-b8ef-610ed6dc2eaf",
   "metadata": {},
   "outputs": [
    {
     "data": {
      "text/plain": [
       "numpy.ndarray"
      ]
     },
     "execution_count": 6,
     "metadata": {},
     "output_type": "execute_result"
    }
   ],
   "source": [
    "type(m)"
   ]
  },
  {
   "cell_type": "code",
   "execution_count": 7,
   "id": "cf5ac87c-34c3-4614-b26a-dea9909b2858",
   "metadata": {},
   "outputs": [
    {
     "data": {
      "text/plain": [
       "12"
      ]
     },
     "execution_count": 7,
     "metadata": {},
     "output_type": "execute_result"
    }
   ],
   "source": [
    "m.size"
   ]
  },
  {
   "cell_type": "code",
   "execution_count": 8,
   "id": "a44bf038-3083-46e8-b935-c57a6ceb07d1",
   "metadata": {},
   "outputs": [
    {
     "data": {
      "text/plain": [
       "(3, 4)"
      ]
     },
     "execution_count": 8,
     "metadata": {},
     "output_type": "execute_result"
    }
   ],
   "source": [
    "m.shape"
   ]
  },
  {
   "cell_type": "code",
   "execution_count": 9,
   "id": "f92597a4-34d9-4378-aadd-257b7c42e1bc",
   "metadata": {},
   "outputs": [
    {
     "name": "stdout",
     "output_type": "stream",
     "text": [
      "[[  1   2   3   4]\n",
      " [ 34  45  67  67]\n",
      " [345 658 453 536]]\n"
     ]
    }
   ],
   "source": [
    "print(m)"
   ]
  },
  {
   "cell_type": "code",
   "execution_count": 12,
   "id": "f3f81687-eab9-4674-ad07-49ba77585763",
   "metadata": {},
   "outputs": [
    {
     "data": {
      "text/plain": [
       "array([[  1,   2,   3,   4],\n",
       "       [ 34,  45,  67,  67],\n",
       "       [345, 658, 453, 536]])"
      ]
     },
     "execution_count": 12,
     "metadata": {},
     "output_type": "execute_result"
    }
   ],
   "source": [
    "m\n"
   ]
  },
  {
   "cell_type": "markdown",
   "id": "4c492240-7c37-4ee3-bc00-7dfc116ed3d6",
   "metadata": {},
   "source": [
    "m[[0],[0]]"
   ]
  },
  {
   "cell_type": "code",
   "execution_count": 13,
   "id": "0120244a-38e2-4326-af0a-14d288e77d7c",
   "metadata": {},
   "outputs": [
    {
     "data": {
      "text/plain": [
       "array([1])"
      ]
     },
     "execution_count": 13,
     "metadata": {},
     "output_type": "execute_result"
    }
   ],
   "source": [
    "m[[0],[0]]"
   ]
  },
  {
   "cell_type": "code",
   "execution_count": 14,
   "id": "7e3a37e7-dbf6-4250-b007-0e91f2712b5e",
   "metadata": {},
   "outputs": [
    {
     "data": {
      "text/plain": [
       "array([67])"
      ]
     },
     "execution_count": 14,
     "metadata": {},
     "output_type": "execute_result"
    }
   ],
   "source": [
    "m[[1],[2]]"
   ]
  },
  {
   "cell_type": "code",
   "execution_count": 20,
   "id": "e7f061a9-b8dd-4f52-a3ce-af698831b097",
   "metadata": {},
   "outputs": [
    {
     "data": {
      "text/plain": [
       "array([345, 658])"
      ]
     },
     "execution_count": 20,
     "metadata": {},
     "output_type": "execute_result"
    }
   ],
   "source": [
    "m[[2],[0,1]]"
   ]
  },
  {
   "cell_type": "code",
   "execution_count": 21,
   "id": "2cc337c4-0214-4144-b11f-7deeca72a923",
   "metadata": {},
   "outputs": [
    {
     "data": {
      "text/plain": [
       "array([536])"
      ]
     },
     "execution_count": 21,
     "metadata": {},
     "output_type": "execute_result"
    }
   ],
   "source": [
    "m[[2],[3]]"
   ]
  },
  {
   "cell_type": "code",
   "execution_count": 27,
   "id": "49d25649-03c9-4cdf-97d2-e7cdac4c9999",
   "metadata": {},
   "outputs": [
    {
     "data": {
      "text/plain": [
       "array([1, 2, 3, 4])"
      ]
     },
     "execution_count": 27,
     "metadata": {},
     "output_type": "execute_result"
    }
   ],
   "source": [
    "m[0][0:5:1]"
   ]
  },
  {
   "cell_type": "code",
   "execution_count": 28,
   "id": "09551345-9ca9-4d8b-9428-cd73acaeb963",
   "metadata": {},
   "outputs": [
    {
     "data": {
      "text/plain": [
       "array([453, 536])"
      ]
     },
     "execution_count": 28,
     "metadata": {},
     "output_type": "execute_result"
    }
   ],
   "source": [
    "m[2][2:5:1]"
   ]
  },
  {
   "cell_type": "code",
   "execution_count": 29,
   "id": "1bc9f267-30a8-4ede-a0b4-08946ea7234a",
   "metadata": {},
   "outputs": [
    {
     "data": {
      "text/plain": [
       "1"
      ]
     },
     "execution_count": 29,
     "metadata": {},
     "output_type": "execute_result"
    }
   ],
   "source": [
    "m[0,0]"
   ]
  },
  {
   "cell_type": "code",
   "execution_count": 30,
   "id": "70ef104f-e8e4-4b69-95eb-df0c4364b3cc",
   "metadata": {},
   "outputs": [
    {
     "data": {
      "text/plain": [
       "array([[  1,   2,   3,   4],\n",
       "       [ 34,  45,  67,  67],\n",
       "       [345, 658, 453, 536]])"
      ]
     },
     "execution_count": 30,
     "metadata": {},
     "output_type": "execute_result"
    }
   ],
   "source": [
    "m[0:5:1]"
   ]
  },
  {
   "cell_type": "code",
   "execution_count": 31,
   "id": "385a7cf3-b3fb-4dab-b1c1-9ff04ccbde44",
   "metadata": {},
   "outputs": [
    {
     "data": {
      "text/plain": [
       "array([2, 3, 4])"
      ]
     },
     "execution_count": 31,
     "metadata": {},
     "output_type": "execute_result"
    }
   ],
   "source": [
    "m[0,1:4]"
   ]
  },
  {
   "cell_type": "code",
   "execution_count": 35,
   "id": "1b2bcfdd-619b-403f-9857-c153ce4585b3",
   "metadata": {},
   "outputs": [
    {
     "data": {
      "text/plain": [
       "array([2, 1])"
      ]
     },
     "execution_count": 35,
     "metadata": {},
     "output_type": "execute_result"
    }
   ],
   "source": [
    "m[[0,0],[1,0]]"
   ]
  },
  {
   "cell_type": "code",
   "execution_count": 37,
   "id": "6d9f883b-9071-413b-8f3c-3bfecb5fe287",
   "metadata": {},
   "outputs": [
    {
     "data": {
      "text/plain": [
       "array([[ 67,  67],\n",
       "       [453, 536]])"
      ]
     },
     "execution_count": 37,
     "metadata": {},
     "output_type": "execute_result"
    }
   ],
   "source": [
    "m[1:,2:]"
   ]
  },
  {
   "cell_type": "code",
   "execution_count": 38,
   "id": "cbcc6be3-97b3-48d8-aa78-4904e1a801e6",
   "metadata": {},
   "outputs": [],
   "source": [
    "# syntax = m[row,col]"
   ]
  },
  {
   "cell_type": "code",
   "execution_count": 42,
   "id": "0ce94cca-7def-41e5-b340-c166fc7fc5a7",
   "metadata": {},
   "outputs": [
    {
     "data": {
      "text/plain": [
       "array([[  3,   4],\n",
       "       [ 67,  67],\n",
       "       [453, 536]])"
      ]
     },
     "execution_count": 42,
     "metadata": {},
     "output_type": "execute_result"
    }
   ],
   "source": [
    "m[0:,2:]"
   ]
  },
  {
   "cell_type": "code",
   "execution_count": 43,
   "id": "fbd64261-87ca-4724-b3a8-524844e4be72",
   "metadata": {},
   "outputs": [
    {
     "data": {
      "text/plain": [
       "array([1, 2, 3])"
      ]
     },
     "execution_count": 43,
     "metadata": {},
     "output_type": "execute_result"
    }
   ],
   "source": [
    "m[0,:3]"
   ]
  },
  {
   "cell_type": "code",
   "execution_count": 45,
   "id": "823db698-43aa-4c11-a159-d959b53d86cb",
   "metadata": {},
   "outputs": [
    {
     "data": {
      "text/plain": [
       "array([[  4],\n",
       "       [ 67],\n",
       "       [536]])"
      ]
     },
     "execution_count": 45,
     "metadata": {},
     "output_type": "execute_result"
    }
   ],
   "source": [
    "m[0:4,3:5]"
   ]
  },
  {
   "cell_type": "code",
   "execution_count": 46,
   "id": "eb6d2088-1221-468e-950e-3812d6c5573b",
   "metadata": {},
   "outputs": [
    {
     "data": {
      "text/plain": [
       "[0,\n",
       " 1,\n",
       " 2,\n",
       " 3,\n",
       " 4,\n",
       " 5,\n",
       " 6,\n",
       " 7,\n",
       " 8,\n",
       " 9,\n",
       " 10,\n",
       " 11,\n",
       " 12,\n",
       " 13,\n",
       " 14,\n",
       " 15,\n",
       " 16,\n",
       " 17,\n",
       " 18,\n",
       " 19,\n",
       " 20,\n",
       " 21,\n",
       " 22,\n",
       " 23,\n",
       " 24,\n",
       " 25,\n",
       " 26,\n",
       " 27,\n",
       " 28,\n",
       " 29,\n",
       " 30,\n",
       " 31,\n",
       " 32,\n",
       " 33,\n",
       " 34,\n",
       " 35,\n",
       " 36,\n",
       " 37,\n",
       " 38,\n",
       " 39,\n",
       " 40,\n",
       " 41,\n",
       " 42,\n",
       " 43,\n",
       " 44,\n",
       " 45,\n",
       " 46,\n",
       " 47,\n",
       " 48,\n",
       " 49]"
      ]
     },
     "execution_count": 46,
     "metadata": {},
     "output_type": "execute_result"
    }
   ],
   "source": [
    "list (range (0,50))"
   ]
  },
  {
   "cell_type": "code",
   "execution_count": 47,
   "id": "ccc232e4-2f8d-4c7c-a146-dc1c35aedd8f",
   "metadata": {},
   "outputs": [
    {
     "data": {
      "text/plain": [
       "array([ 0,  1,  2,  3,  4,  5,  6,  7,  8,  9, 10, 11, 12, 13, 14, 15, 16,\n",
       "       17, 18, 19, 20, 21, 22, 23, 24, 25, 26, 27, 28, 29, 30, 31, 32, 33,\n",
       "       34, 35, 36, 37, 38, 39, 40, 41, 42, 43, 44, 45, 46, 47, 48, 49, 50])"
      ]
     },
     "execution_count": 47,
     "metadata": {},
     "output_type": "execute_result"
    }
   ],
   "source": [
    "np.arange(0,51)"
   ]
  },
  {
   "cell_type": "code",
   "execution_count": 48,
   "id": "0ff2132c-637e-4c83-b4f3-22f97f97609b",
   "metadata": {},
   "outputs": [
    {
     "data": {
      "text/plain": [
       "array([ 0.5,  1.5,  2.5,  3.5,  4.5,  5.5,  6.5,  7.5,  8.5,  9.5, 10.5,\n",
       "       11.5, 12.5, 13.5, 14.5, 15.5, 16.5, 17.5, 18.5, 19.5, 20.5, 21.5,\n",
       "       22.5, 23.5, 24.5, 25.5, 26.5, 27.5, 28.5, 29.5, 30.5, 31.5, 32.5,\n",
       "       33.5, 34.5, 35.5, 36.5, 37.5, 38.5, 39.5, 40.5, 41.5, 42.5, 43.5,\n",
       "       44.5, 45.5, 46.5, 47.5, 48.5, 49.5])"
      ]
     },
     "execution_count": 48,
     "metadata": {},
     "output_type": "execute_result"
    }
   ],
   "source": [
    "np.arange(0.50,50.1)"
   ]
  },
  {
   "cell_type": "code",
   "execution_count": 50,
   "id": "cd57bc86-5594-4451-a8f4-ddeb56b40ec3",
   "metadata": {},
   "outputs": [
    {
     "ename": "TypeError",
     "evalue": "'float' object cannot be interpreted as an integer",
     "output_type": "error",
     "traceback": [
      "\u001b[1;31m---------------------------------------------------------------------------\u001b[0m",
      "\u001b[1;31mTypeError\u001b[0m                                 Traceback (most recent call last)",
      "Input \u001b[1;32mIn [50]\u001b[0m, in \u001b[0;36m<cell line: 1>\u001b[1;34m()\u001b[0m\n\u001b[1;32m----> 1\u001b[0m \u001b[38;5;28mlist\u001b[39m [\u001b[38;5;28;43mrange\u001b[39;49m\u001b[43m(\u001b[49m\u001b[38;5;241;43m1.2\u001b[39;49m\u001b[43m,\u001b[49m\u001b[38;5;241;43m2.3\u001b[39;49m\u001b[43m)\u001b[49m]\n",
      "\u001b[1;31mTypeError\u001b[0m: 'float' object cannot be interpreted as an integer"
     ]
    }
   ],
   "source": [
    "list [range(1.2,2.3)]"
   ]
  },
  {
   "cell_type": "markdown",
   "id": "49727084-46ed-49c2-8384-a34ef82f0253",
   "metadata": {},
   "source": [
    "# reshape"
   ]
  },
  {
   "cell_type": "code",
   "execution_count": 57,
   "id": "0b494ffa-bf32-4937-bd63-47a54ed24466",
   "metadata": {},
   "outputs": [
    {
     "data": {
      "text/plain": [
       "array([[ 0,  1,  2,  3],\n",
       "       [ 4,  5,  6,  7],\n",
       "       [ 8,  9, 10, 11]])"
      ]
     },
     "execution_count": 57,
     "metadata": {},
     "output_type": "execute_result"
    }
   ],
   "source": [
    "np.arange(0,12).reshape(3,4)"
   ]
  },
  {
   "cell_type": "code",
   "execution_count": 58,
   "id": "3d069258-4151-41d0-ba14-b436481833f6",
   "metadata": {},
   "outputs": [
    {
     "data": {
      "text/plain": [
       "8.0"
      ]
     },
     "execution_count": 58,
     "metadata": {},
     "output_type": "execute_result"
    }
   ],
   "source": [
    "np.sqrt(64)"
   ]
  },
  {
   "cell_type": "code",
   "execution_count": null,
   "id": "f54fb4f5-853c-4159-a520-9afa3ea37a6b",
   "metadata": {},
   "outputs": [],
   "source": []
  },
  {
   "cell_type": "code",
   "execution_count": 61,
   "id": "024916f6-c8b5-453c-9242-6973a2d443c8",
   "metadata": {},
   "outputs": [
    {
     "data": {
      "text/plain": [
       "658"
      ]
     },
     "execution_count": 61,
     "metadata": {},
     "output_type": "execute_result"
    }
   ],
   "source": [
    "m.max()"
   ]
  },
  {
   "cell_type": "code",
   "execution_count": 63,
   "id": "b5593b25-7ab0-43fc-b807-7dc279f87087",
   "metadata": {},
   "outputs": [
    {
     "data": {
      "text/plain": [
       "1"
      ]
     },
     "execution_count": 63,
     "metadata": {},
     "output_type": "execute_result"
    }
   ],
   "source": [
    "m.min()"
   ]
  },
  {
   "cell_type": "markdown",
   "id": "eef9388a-d2b5-49b3-9ca6-53fd7b71eac1",
   "metadata": {},
   "source": []
  },
  {
   "cell_type": "code",
   "execution_count": 64,
   "id": "4d89637f-7ced-4fe8-9700-84efc4e2444b",
   "metadata": {},
   "outputs": [
    {
     "data": {
      "text/plain": [
       "184.58333333333334"
      ]
     },
     "execution_count": 64,
     "metadata": {},
     "output_type": "execute_result"
    }
   ],
   "source": [
    "m.mean()"
   ]
  },
  {
   "cell_type": "code",
   "execution_count": 65,
   "id": "f7484e45-0b13-439e-8872-d635b3ef53ca",
   "metadata": {},
   "outputs": [
    {
     "data": {
      "text/plain": [
       "array([[  1,   2,   3,   4],\n",
       "       [ 34,  45,  67,  67],\n",
       "       [345, 658, 453, 536]])"
      ]
     },
     "execution_count": 65,
     "metadata": {},
     "output_type": "execute_result"
    }
   ],
   "source": [
    "m"
   ]
  },
  {
   "cell_type": "code",
   "execution_count": 67,
   "id": "9d227732-6998-4bda-99f9-438072667be5",
   "metadata": {},
   "outputs": [
    {
     "data": {
      "text/plain": [
       "9"
      ]
     },
     "execution_count": 67,
     "metadata": {},
     "output_type": "execute_result"
    }
   ],
   "source": [
    "m.argmax()"
   ]
  },
  {
   "cell_type": "code",
   "execution_count": 68,
   "id": "4f188117-b176-4094-b3df-e83eee225c6f",
   "metadata": {},
   "outputs": [
    {
     "data": {
      "text/plain": [
       "0"
      ]
     },
     "execution_count": 68,
     "metadata": {},
     "output_type": "execute_result"
    }
   ],
   "source": [
    "m.argmin()"
   ]
  },
  {
   "cell_type": "code",
   "execution_count": null,
   "id": "6d06bd5f-2690-499f-acd2-2d779707a0a0",
   "metadata": {},
   "outputs": [],
   "source": [
    "np\n"
   ]
  },
  {
   "cell_type": "code",
   "execution_count": 70,
   "id": "35255c08-e76b-4332-8382-573388da73ec",
   "metadata": {},
   "outputs": [
    {
     "data": {
      "text/plain": [
       "array([[   2,    4,    6,    8],\n",
       "       [  68,   90,  134,  134],\n",
       "       [ 690, 1316,  906, 1072]])"
      ]
     },
     "execution_count": 70,
     "metadata": {},
     "output_type": "execute_result"
    }
   ],
   "source": [
    "m*2"
   ]
  },
  {
   "cell_type": "code",
   "execution_count": 71,
   "id": "38869cd5-1027-4d07-8f79-4c6869f9702d",
   "metadata": {},
   "outputs": [
    {
     "data": {
      "text/plain": [
       "array([[  3,   4,   5,   6],\n",
       "       [ 36,  47,  69,  69],\n",
       "       [347, 660, 455, 538]])"
      ]
     },
     "execution_count": 71,
     "metadata": {},
     "output_type": "execute_result"
    }
   ],
   "source": [
    "m+2"
   ]
  },
  {
   "cell_type": "code",
   "execution_count": 72,
   "id": "0d7ffd06-d3c7-4524-bbba-e339a34d29a6",
   "metadata": {},
   "outputs": [
    {
     "data": {
      "text/plain": [
       "array([[  0,   1,   2,   3],\n",
       "       [ 33,  44,  66,  66],\n",
       "       [344, 657, 452, 535]])"
      ]
     },
     "execution_count": 72,
     "metadata": {},
     "output_type": "execute_result"
    }
   ],
   "source": [
    "m-1"
   ]
  },
  {
   "cell_type": "code",
   "execution_count": 73,
   "id": "ce1a3bc5-5738-447a-a952-a76f0ba54618",
   "metadata": {},
   "outputs": [
    {
     "data": {
      "text/plain": [
       "array([], shape=(0, 4), dtype=int32)"
      ]
     },
     "execution_count": 73,
     "metadata": {},
     "output_type": "execute_result"
    }
   ],
   "source": [
    "m[12:12:-1]"
   ]
  },
  {
   "cell_type": "markdown",
   "id": "3e6cf5cd-abd1-469d-9dad-2e124d71d522",
   "metadata": {},
   "source": [
    "# random "
   ]
  },
  {
   "cell_type": "code",
   "execution_count": 75,
   "id": "5d8f54d6-472a-48d8-a786-5e225a7b24cd",
   "metadata": {},
   "outputs": [
    {
     "data": {
      "text/plain": [
       "array([[0.61291332, 0.11646632],\n",
       "       [0.07357806, 0.48441852]])"
      ]
     },
     "execution_count": 75,
     "metadata": {},
     "output_type": "execute_result"
    }
   ],
   "source": [
    "np.random.rand(2,2)"
   ]
  },
  {
   "cell_type": "code",
   "execution_count": 79,
   "id": "5d8c31a7-7543-4900-8712-b27b3345044b",
   "metadata": {},
   "outputs": [
    {
     "data": {
      "text/plain": [
       "array([[-0.73407165,  1.62243602],\n",
       "       [-1.40650482, -1.85607033]])"
      ]
     },
     "execution_count": 79,
     "metadata": {},
     "output_type": "execute_result"
    }
   ],
   "source": [
    "np.random.randn(2,2)"
   ]
  },
  {
   "cell_type": "code",
   "execution_count": 85,
   "id": "1f021043-9047-460c-9c68-89f38390c47c",
   "metadata": {},
   "outputs": [
    {
     "data": {
      "text/plain": [
       "array([[21, 79],\n",
       "       [14, 10],\n",
       "       [16, 87],\n",
       "       [16, 11],\n",
       "       [29, 69],\n",
       "       [81, 13]])"
      ]
     },
     "execution_count": 85,
     "metadata": {},
     "output_type": "execute_result"
    }
   ],
   "source": [
    "np.random.randint(9,90,12).reshape(6,2)"
   ]
  },
  {
   "cell_type": "code",
   "execution_count": 86,
   "id": "0c1389ea-6c50-46dc-bca5-9437366952a0",
   "metadata": {},
   "outputs": [],
   "source": [
    "n=np.random.randint(9,90,12).reshape(6,2)"
   ]
  },
  {
   "cell_type": "code",
   "execution_count": 87,
   "id": "3cd32d15-02a2-45a1-81ac-545497260d61",
   "metadata": {},
   "outputs": [
    {
     "data": {
      "text/plain": [
       "array([[12, 53],\n",
       "       [53, 50],\n",
       "       [77, 44],\n",
       "       [29, 75],\n",
       "       [27, 46],\n",
       "       [47, 49]])"
      ]
     },
     "execution_count": 87,
     "metadata": {},
     "output_type": "execute_result"
    }
   ],
   "source": [
    "n\n"
   ]
  },
  {
   "cell_type": "code",
   "execution_count": 88,
   "id": "29d1e40f-9511-4a9e-bc9d-2968b99a571f",
   "metadata": {},
   "outputs": [
    {
     "data": {
      "text/plain": [
       "562"
      ]
     },
     "execution_count": 88,
     "metadata": {},
     "output_type": "execute_result"
    }
   ],
   "source": [
    "n.sum()"
   ]
  },
  {
   "cell_type": "code",
   "execution_count": 89,
   "id": "8ccb8cef-ac95-4782-93b5-bbddc8600246",
   "metadata": {},
   "outputs": [
    {
     "data": {
      "text/plain": [
       "array([ 65, 103, 121, 104,  73,  96])"
      ]
     },
     "execution_count": 89,
     "metadata": {},
     "output_type": "execute_result"
    }
   ],
   "source": [
    "n.sum(axis=1)  #row wise sum"
   ]
  },
  {
   "cell_type": "code",
   "execution_count": 90,
   "id": "8219e759-035b-432f-b43d-ef0fd66f0a49",
   "metadata": {},
   "outputs": [
    {
     "data": {
      "text/plain": [
       "array([245, 317])"
      ]
     },
     "execution_count": 90,
     "metadata": {},
     "output_type": "execute_result"
    }
   ],
   "source": [
    "n.sum(axis=0)  #column wise sum"
   ]
  },
  {
   "cell_type": "markdown",
   "id": "c93937de-ff8b-4b67-b755-a0dada66702e",
   "metadata": {},
   "source": [
    "# 3d array"
   ]
  },
  {
   "cell_type": "code",
   "execution_count": 103,
   "id": "154e8216-b17c-4a0d-b90c-b9a88f501888",
   "metadata": {},
   "outputs": [],
   "source": [
    "d=np.array([[[4,40],[5,50],[6,60]], [[7,70],[8,80],[9,90]] , [[9,90],[10,10],[11,11]]])"
   ]
  },
  {
   "cell_type": "code",
   "execution_count": 98,
   "id": "fb6a739b-e3a1-4aed-aaee-4937af35541f",
   "metadata": {},
   "outputs": [
    {
     "data": {
      "text/plain": [
       "[[[4, 40], [5, 50], [6, 60]],\n",
       " [[7, 70], [8, 80], [9, 90]],\n",
       " [[9, 90], [10, 10], [11, 11]]]"
      ]
     },
     "execution_count": 98,
     "metadata": {},
     "output_type": "execute_result"
    }
   ],
   "source": [
    "d\n"
   ]
  },
  {
   "cell_type": "code",
   "execution_count": 104,
   "id": "fcde36c8-f0e5-4d09-95e9-d34cbafc8e12",
   "metadata": {},
   "outputs": [
    {
     "data": {
      "text/plain": [
       "(3, 3, 2)"
      ]
     },
     "execution_count": 104,
     "metadata": {},
     "output_type": "execute_result"
    }
   ],
   "source": [
    "d.shape"
   ]
  },
  {
   "cell_type": "code",
   "execution_count": null,
   "id": "93823be7-9866-4d0f-a2f5-7bf29aa8427e",
   "metadata": {},
   "outputs": [],
   "source": [
    "# nan - not a number"
   ]
  },
  {
   "cell_type": "code",
   "execution_count": 107,
   "id": "dcf067f9-32e7-4586-9d7e-1e2d0b6d2f3b",
   "metadata": {},
   "outputs": [],
   "source": [
    "x= np.array([12,56,np.nan,66,100,np.nan])"
   ]
  },
  {
   "cell_type": "code",
   "execution_count": 108,
   "id": "393f02d7-2663-4384-a4b0-784757d67dec",
   "metadata": {},
   "outputs": [
    {
     "data": {
      "text/plain": [
       "array([ 12.,  56.,  nan,  66., 100.,  nan])"
      ]
     },
     "execution_count": 108,
     "metadata": {},
     "output_type": "execute_result"
    }
   ],
   "source": [
    "x"
   ]
  },
  {
   "cell_type": "code",
   "execution_count": 109,
   "id": "09cc7259-bcc5-493e-97f4-98825644191b",
   "metadata": {},
   "outputs": [
    {
     "data": {
      "text/plain": [
       "numpy.ndarray"
      ]
     },
     "execution_count": 109,
     "metadata": {},
     "output_type": "execute_result"
    }
   ],
   "source": [
    "type(x)"
   ]
  },
  {
   "cell_type": "code",
   "execution_count": null,
   "id": "7d1ee844-787e-44ee-be1e-6d4ae02d2198",
   "metadata": {},
   "outputs": [],
   "source": []
  }
 ],
 "metadata": {
  "kernelspec": {
   "display_name": "Python 3.9.12 ('base')",
   "language": "python",
   "name": "python3"
  },
  "language_info": {
   "codemirror_mode": {
    "name": "ipython",
    "version": 3
   },
   "file_extension": ".py",
   "mimetype": "text/x-python",
   "name": "python",
   "nbconvert_exporter": "python",
   "pygments_lexer": "ipython3",
   "version": "3.9.12"
  },
  "vscode": {
   "interpreter": {
    "hash": "a077222d77dfe082b8f1dd562ad70e458ac2ab76993a0b248ab0476e32e9e8dd"
   }
  }
 },
 "nbformat": 4,
 "nbformat_minor": 5
}
